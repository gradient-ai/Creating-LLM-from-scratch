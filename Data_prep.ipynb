{
 "cells": [
  {
   "cell_type": "code",
   "execution_count": 1,
   "id": "5425300b-568c-40d4-b869-1bd2d6f22531",
   "metadata": {
    "execution": {
     "iopub.execute_input": "2024-05-08T06:28:56.950639Z",
     "iopub.status.busy": "2024-05-08T06:28:56.950256Z",
     "iopub.status.idle": "2024-05-08T06:28:57.471513Z",
     "shell.execute_reply": "2024-05-08T06:28:57.470501Z",
     "shell.execute_reply.started": "2024-05-08T06:28:56.950621Z"
    }
   },
   "outputs": [],
   "source": [
    "import urllib.request\n",
    "import zipfile\n",
    "import os\n",
    "from pathlib import Path\n",
    "import pandas as pd"
   ]
  },
  {
   "cell_type": "code",
   "execution_count": 2,
   "id": "54e9423c-d7a1-427a-95cd-85bdb0efad96",
   "metadata": {
    "execution": {
     "iopub.execute_input": "2024-05-08T06:29:09.580749Z",
     "iopub.status.busy": "2024-05-08T06:29:09.580287Z",
     "iopub.status.idle": "2024-05-08T06:29:09.587280Z",
     "shell.execute_reply": "2024-05-08T06:29:09.585874Z",
     "shell.execute_reply.started": "2024-05-08T06:29:09.580720Z"
    }
   },
   "outputs": [],
   "source": [
    "url = \"https://archive.ics.uci.edu/static/public/228/sms+spam+collection.zip\"\n",
    "zip_path = \"sms_spam_collection.zip\"\n",
    "extracted_path = \"sms_spam_collection\"\n",
    "data_file_path = Path(extracted_path) / \"SMSSpamCollection.tsv\""
   ]
  },
  {
   "cell_type": "code",
   "execution_count": 3,
   "id": "6a2b124f-0d1f-48a5-ac97-0d93a703dac9",
   "metadata": {
    "execution": {
     "iopub.execute_input": "2024-05-08T06:29:32.180343Z",
     "iopub.status.busy": "2024-05-08T06:29:32.180006Z",
     "iopub.status.idle": "2024-05-08T06:29:32.185831Z",
     "shell.execute_reply": "2024-05-08T06:29:32.184629Z",
     "shell.execute_reply.started": "2024-05-08T06:29:32.180316Z"
    }
   },
   "outputs": [],
   "source": [
    "def download_and_unzip(url, zip_path, extracted_path, data_file_path):\n",
    "    if data_file_path.exists():\n",
    "        print(f\"{data_file_path} already exists. Skipping download and extraction.\")\n",
    "        return"
   ]
  },
  {
   "cell_type": "code",
   "execution_count": 4,
   "id": "3b7e1239-2837-455b-acbd-bb2aeee8c506",
   "metadata": {
    "execution": {
     "iopub.execute_input": "2024-05-08T06:29:50.966822Z",
     "iopub.status.busy": "2024-05-08T06:29:50.966503Z",
     "iopub.status.idle": "2024-05-08T06:29:51.556821Z",
     "shell.execute_reply": "2024-05-08T06:29:51.556773Z",
     "shell.execute_reply.started": "2024-05-08T06:29:50.966795Z"
    }
   },
   "outputs": [],
   "source": [
    "# Downloading the file\n",
    "with urllib.request.urlopen(url) as response:\n",
    "    with open(zip_path, \"wb\") as out_file:\n",
    "        out_file.write(response.read())"
   ]
  },
  {
   "cell_type": "code",
   "execution_count": 5,
   "id": "f4ea28f5-a0da-4544-b1f5-2eee27302445",
   "metadata": {
    "execution": {
     "iopub.execute_input": "2024-05-08T06:30:13.497887Z",
     "iopub.status.busy": "2024-05-08T06:30:13.497448Z",
     "iopub.status.idle": "2024-05-08T06:30:13.511012Z",
     "shell.execute_reply": "2024-05-08T06:30:13.509736Z",
     "shell.execute_reply.started": "2024-05-08T06:30:13.497887Z"
    }
   },
   "outputs": [],
   "source": [
    "# Unzipping the file\n",
    "with zipfile.ZipFile(zip_path, \"r\") as zip_ref:\n",
    "    zip_ref.extractall(extracted_path)"
   ]
  },
  {
   "cell_type": "code",
   "execution_count": 6,
   "id": "8e03909b-2161-490b-a9b6-52b7dc4d22fd",
   "metadata": {
    "execution": {
     "iopub.execute_input": "2024-05-08T06:30:23.621443Z",
     "iopub.status.busy": "2024-05-08T06:30:23.620937Z",
     "iopub.status.idle": "2024-05-08T06:30:23.628575Z",
     "shell.execute_reply": "2024-05-08T06:30:23.627324Z",
     "shell.execute_reply.started": "2024-05-08T06:30:23.621368Z"
    }
   },
   "outputs": [
    {
     "name": "stdout",
     "output_type": "stream",
     "text": [
      "File downloaded and saved as sms_spam_collection/SMSSpamCollection.tsv\n"
     ]
    }
   ],
   "source": [
    "# Add .tsv file extension\n",
    "original_file_path = Path(extracted_path) / \"SMSSpamCollection\"\n",
    "os.rename(original_file_path, data_file_path)\n",
    "print(f\"File downloaded and saved as {data_file_path}\")"
   ]
  },
  {
   "cell_type": "code",
   "execution_count": 7,
   "id": "0671e24e-f900-4f21-9513-5a98a9690e0c",
   "metadata": {
    "execution": {
     "iopub.execute_input": "2024-05-08T06:30:36.309434Z",
     "iopub.status.busy": "2024-05-08T06:30:36.309103Z",
     "iopub.status.idle": "2024-05-08T06:30:36.338148Z",
     "shell.execute_reply": "2024-05-08T06:30:36.337245Z",
     "shell.execute_reply.started": "2024-05-08T06:30:36.309409Z"
    }
   },
   "outputs": [
    {
     "data": {
      "text/html": [
       "<div>\n",
       "<style scoped>\n",
       "    .dataframe tbody tr th:only-of-type {\n",
       "        vertical-align: middle;\n",
       "    }\n",
       "\n",
       "    .dataframe tbody tr th {\n",
       "        vertical-align: top;\n",
       "    }\n",
       "\n",
       "    .dataframe thead th {\n",
       "        text-align: right;\n",
       "    }\n",
       "</style>\n",
       "<table border=\"1\" class=\"dataframe\">\n",
       "  <thead>\n",
       "    <tr style=\"text-align: right;\">\n",
       "      <th></th>\n",
       "      <th>Label</th>\n",
       "      <th>Text</th>\n",
       "    </tr>\n",
       "  </thead>\n",
       "  <tbody>\n",
       "    <tr>\n",
       "      <th>0</th>\n",
       "      <td>ham</td>\n",
       "      <td>Go until jurong point, crazy.. Available only ...</td>\n",
       "    </tr>\n",
       "    <tr>\n",
       "      <th>1</th>\n",
       "      <td>ham</td>\n",
       "      <td>Ok lar... Joking wif u oni...</td>\n",
       "    </tr>\n",
       "    <tr>\n",
       "      <th>2</th>\n",
       "      <td>spam</td>\n",
       "      <td>Free entry in 2 a wkly comp to win FA Cup fina...</td>\n",
       "    </tr>\n",
       "    <tr>\n",
       "      <th>3</th>\n",
       "      <td>ham</td>\n",
       "      <td>U dun say so early hor... U c already then say...</td>\n",
       "    </tr>\n",
       "    <tr>\n",
       "      <th>4</th>\n",
       "      <td>ham</td>\n",
       "      <td>Nah I don't think he goes to usf, he lives aro...</td>\n",
       "    </tr>\n",
       "    <tr>\n",
       "      <th>...</th>\n",
       "      <td>...</td>\n",
       "      <td>...</td>\n",
       "    </tr>\n",
       "    <tr>\n",
       "      <th>5567</th>\n",
       "      <td>spam</td>\n",
       "      <td>This is the 2nd time we have tried 2 contact u...</td>\n",
       "    </tr>\n",
       "    <tr>\n",
       "      <th>5568</th>\n",
       "      <td>ham</td>\n",
       "      <td>Will ü b going to esplanade fr home?</td>\n",
       "    </tr>\n",
       "    <tr>\n",
       "      <th>5569</th>\n",
       "      <td>ham</td>\n",
       "      <td>Pity, * was in mood for that. So...any other s...</td>\n",
       "    </tr>\n",
       "    <tr>\n",
       "      <th>5570</th>\n",
       "      <td>ham</td>\n",
       "      <td>The guy did some bitching but I acted like i'd...</td>\n",
       "    </tr>\n",
       "    <tr>\n",
       "      <th>5571</th>\n",
       "      <td>ham</td>\n",
       "      <td>Rofl. Its true to its name</td>\n",
       "    </tr>\n",
       "  </tbody>\n",
       "</table>\n",
       "<p>5572 rows × 2 columns</p>\n",
       "</div>"
      ],
      "text/plain": [
       "     Label                                               Text\n",
       "0      ham  Go until jurong point, crazy.. Available only ...\n",
       "1      ham                      Ok lar... Joking wif u oni...\n",
       "2     spam  Free entry in 2 a wkly comp to win FA Cup fina...\n",
       "3      ham  U dun say so early hor... U c already then say...\n",
       "4      ham  Nah I don't think he goes to usf, he lives aro...\n",
       "...    ...                                                ...\n",
       "5567  spam  This is the 2nd time we have tried 2 contact u...\n",
       "5568   ham               Will ü b going to esplanade fr home?\n",
       "5569   ham  Pity, * was in mood for that. So...any other s...\n",
       "5570   ham  The guy did some bitching but I acted like i'd...\n",
       "5571   ham                         Rofl. Its true to its name\n",
       "\n",
       "[5572 rows x 2 columns]"
      ]
     },
     "execution_count": 7,
     "metadata": {},
     "output_type": "execute_result"
    }
   ],
   "source": [
    "df = pd.read_csv(data_file_path, sep=\"\\t\", header=None, names=[\"Label\", \"Text\"])\n",
    "df"
   ]
  },
  {
   "cell_type": "code",
   "execution_count": 8,
   "id": "657bc4c2-5eab-4206-a32e-d0a16b42564b",
   "metadata": {
    "execution": {
     "iopub.execute_input": "2024-05-08T06:30:51.761071Z",
     "iopub.status.busy": "2024-05-08T06:30:51.760004Z",
     "iopub.status.idle": "2024-05-08T06:30:51.767080Z",
     "shell.execute_reply": "2024-05-08T06:30:51.766101Z",
     "shell.execute_reply.started": "2024-05-08T06:30:51.761053Z"
    }
   },
   "outputs": [
    {
     "name": "stdout",
     "output_type": "stream",
     "text": [
      "Label\n",
      "ham     4825\n",
      "spam     747\n",
      "Name: count, dtype: int64\n"
     ]
    }
   ],
   "source": [
    "print(df[\"Label\"].value_counts())"
   ]
  },
  {
   "cell_type": "code",
   "execution_count": 9,
   "id": "5b6343b2-349a-461d-938b-c8a0b4888cad",
   "metadata": {
    "execution": {
     "iopub.execute_input": "2024-05-08T06:31:03.956342Z",
     "iopub.status.busy": "2024-05-08T06:31:03.955802Z",
     "iopub.status.idle": "2024-05-08T06:31:03.962710Z",
     "shell.execute_reply": "2024-05-08T06:31:03.961600Z",
     "shell.execute_reply.started": "2024-05-08T06:31:03.956332Z"
    }
   },
   "outputs": [],
   "source": [
    "def create_balanced_dataset(df):\n",
    "  # Count the instances of \"spam\"\n",
    "  num_spam = df[df[\"Label\"] == \"spam\"].shape[0]\n",
    "  # Randomly sample \"ham' instances to match the number of 'spam' instances\n",
    "  ham_subset = df[df[\"Label\"] == \"ham\"].sample(num_spam, random_state=123)\n",
    "  # Combine ham \"subset\" with \"spam\"\n",
    "  balanced_df = pd.concat([ham_subset, df[df[\"Label\"] == \"spam\"]])\n",
    "  return balanced_df"
   ]
  },
  {
   "cell_type": "code",
   "execution_count": 10,
   "id": "c58fda6f-109b-4316-a7cd-484269260f08",
   "metadata": {
    "execution": {
     "iopub.execute_input": "2024-05-08T06:31:13.074630Z",
     "iopub.status.busy": "2024-05-08T06:31:13.073916Z",
     "iopub.status.idle": "2024-05-08T06:31:13.083299Z",
     "shell.execute_reply": "2024-05-08T06:31:13.082449Z",
     "shell.execute_reply.started": "2024-05-08T06:31:13.074604Z"
    }
   },
   "outputs": [],
   "source": [
    "balanced_df = create_balanced_dataset(df)"
   ]
  },
  {
   "cell_type": "code",
   "execution_count": 11,
   "id": "4482e578-8553-43b3-9aa0-7edc3b099a6a",
   "metadata": {
    "execution": {
     "iopub.execute_input": "2024-05-08T06:31:23.026804Z",
     "iopub.status.busy": "2024-05-08T06:31:23.026498Z",
     "iopub.status.idle": "2024-05-08T06:31:23.034099Z",
     "shell.execute_reply": "2024-05-08T06:31:23.032615Z",
     "shell.execute_reply.started": "2024-05-08T06:31:23.026804Z"
    }
   },
   "outputs": [
    {
     "name": "stdout",
     "output_type": "stream",
     "text": [
      "Label\n",
      "ham     747\n",
      "spam    747\n",
      "Name: count, dtype: int64\n"
     ]
    }
   ],
   "source": [
    "print(balanced_df[\"Label\"].value_counts())"
   ]
  },
  {
   "cell_type": "code",
   "execution_count": 12,
   "id": "94134bef-f7c1-4683-b1e8-665584b4e21f",
   "metadata": {
    "execution": {
     "iopub.execute_input": "2024-05-08T06:31:30.783995Z",
     "iopub.status.busy": "2024-05-08T06:31:30.782785Z",
     "iopub.status.idle": "2024-05-08T06:31:30.794422Z",
     "shell.execute_reply": "2024-05-08T06:31:30.793524Z",
     "shell.execute_reply.started": "2024-05-08T06:31:30.783995Z"
    }
   },
   "outputs": [
    {
     "data": {
      "text/html": [
       "<div>\n",
       "<style scoped>\n",
       "    .dataframe tbody tr th:only-of-type {\n",
       "        vertical-align: middle;\n",
       "    }\n",
       "\n",
       "    .dataframe tbody tr th {\n",
       "        vertical-align: top;\n",
       "    }\n",
       "\n",
       "    .dataframe thead th {\n",
       "        text-align: right;\n",
       "    }\n",
       "</style>\n",
       "<table border=\"1\" class=\"dataframe\">\n",
       "  <thead>\n",
       "    <tr style=\"text-align: right;\">\n",
       "      <th></th>\n",
       "      <th>Label</th>\n",
       "      <th>Text</th>\n",
       "    </tr>\n",
       "  </thead>\n",
       "  <tbody>\n",
       "    <tr>\n",
       "      <th>2</th>\n",
       "      <td>spam</td>\n",
       "      <td>Free entry in 2 a wkly comp to win FA Cup fina...</td>\n",
       "    </tr>\n",
       "    <tr>\n",
       "      <th>5</th>\n",
       "      <td>spam</td>\n",
       "      <td>FreeMsg Hey there darling it's been 3 week's n...</td>\n",
       "    </tr>\n",
       "    <tr>\n",
       "      <th>8</th>\n",
       "      <td>spam</td>\n",
       "      <td>WINNER!! As a valued network customer you have...</td>\n",
       "    </tr>\n",
       "    <tr>\n",
       "      <th>9</th>\n",
       "      <td>spam</td>\n",
       "      <td>Had your mobile 11 months or more? U R entitle...</td>\n",
       "    </tr>\n",
       "    <tr>\n",
       "      <th>11</th>\n",
       "      <td>spam</td>\n",
       "      <td>SIX chances to win CASH! From 100 to 20,000 po...</td>\n",
       "    </tr>\n",
       "  </tbody>\n",
       "</table>\n",
       "</div>"
      ],
      "text/plain": [
       "   Label                                               Text\n",
       "2   spam  Free entry in 2 a wkly comp to win FA Cup fina...\n",
       "5   spam  FreeMsg Hey there darling it's been 3 week's n...\n",
       "8   spam  WINNER!! As a valued network customer you have...\n",
       "9   spam  Had your mobile 11 months or more? U R entitle...\n",
       "11  spam  SIX chances to win CASH! From 100 to 20,000 po..."
      ]
     },
     "execution_count": 12,
     "metadata": {},
     "output_type": "execute_result"
    }
   ],
   "source": [
    "balanced_df[balanced_df['Label'] == 'spam'].head()"
   ]
  },
  {
   "cell_type": "code",
   "execution_count": 13,
   "id": "cec351f3-38c2-4b24-9598-cf92ee1ee265",
   "metadata": {
    "execution": {
     "iopub.execute_input": "2024-05-08T06:31:44.730363Z",
     "iopub.status.busy": "2024-05-08T06:31:44.730363Z",
     "iopub.status.idle": "2024-05-08T06:31:44.741747Z",
     "shell.execute_reply": "2024-05-08T06:31:44.740649Z",
     "shell.execute_reply.started": "2024-05-08T06:31:44.730363Z"
    }
   },
   "outputs": [
    {
     "data": {
      "text/html": [
       "<div>\n",
       "<style scoped>\n",
       "    .dataframe tbody tr th:only-of-type {\n",
       "        vertical-align: middle;\n",
       "    }\n",
       "\n",
       "    .dataframe tbody tr th {\n",
       "        vertical-align: top;\n",
       "    }\n",
       "\n",
       "    .dataframe thead th {\n",
       "        text-align: right;\n",
       "    }\n",
       "</style>\n",
       "<table border=\"1\" class=\"dataframe\">\n",
       "  <thead>\n",
       "    <tr style=\"text-align: right;\">\n",
       "      <th></th>\n",
       "      <th>Label</th>\n",
       "      <th>Text</th>\n",
       "    </tr>\n",
       "  </thead>\n",
       "  <tbody>\n",
       "    <tr>\n",
       "      <th>4307</th>\n",
       "      <td>ham</td>\n",
       "      <td>Awww dat is sweet! We can think of something t...</td>\n",
       "    </tr>\n",
       "    <tr>\n",
       "      <th>4138</th>\n",
       "      <td>ham</td>\n",
       "      <td>Just got to  &amp;lt;#&amp;gt;</td>\n",
       "    </tr>\n",
       "    <tr>\n",
       "      <th>4831</th>\n",
       "      <td>ham</td>\n",
       "      <td>The word \"Checkmate\" in chess comes from the P...</td>\n",
       "    </tr>\n",
       "    <tr>\n",
       "      <th>4461</th>\n",
       "      <td>ham</td>\n",
       "      <td>This is wishing you a great day. Moji told me ...</td>\n",
       "    </tr>\n",
       "    <tr>\n",
       "      <th>5440</th>\n",
       "      <td>ham</td>\n",
       "      <td>Thank you. do you generally date the brothas?</td>\n",
       "    </tr>\n",
       "  </tbody>\n",
       "</table>\n",
       "</div>"
      ],
      "text/plain": [
       "     Label                                               Text\n",
       "4307   ham  Awww dat is sweet! We can think of something t...\n",
       "4138   ham                             Just got to  &lt;#&gt;\n",
       "4831   ham  The word \"Checkmate\" in chess comes from the P...\n",
       "4461   ham  This is wishing you a great day. Moji told me ...\n",
       "5440   ham      Thank you. do you generally date the brothas?"
      ]
     },
     "execution_count": 13,
     "metadata": {},
     "output_type": "execute_result"
    }
   ],
   "source": [
    "balanced_df[balanced_df['Label'] == 'ham'].head()"
   ]
  },
  {
   "cell_type": "code",
   "execution_count": 14,
   "id": "283c5b5f-333f-41c8-b015-f56b3c5db191",
   "metadata": {
    "execution": {
     "iopub.execute_input": "2024-05-08T06:33:17.488607Z",
     "iopub.status.busy": "2024-05-08T06:33:17.488274Z",
     "iopub.status.idle": "2024-05-08T06:33:17.496702Z",
     "shell.execute_reply": "2024-05-08T06:33:17.493757Z",
     "shell.execute_reply.started": "2024-05-08T06:33:17.488582Z"
    }
   },
   "outputs": [],
   "source": [
    "balanced_df['Label']= balanced_df['Label'].map({\"ham\":1, \"spam\":0})"
   ]
  },
  {
   "cell_type": "code",
   "execution_count": 15,
   "id": "a7bc4e9d-3b4a-40f5-8716-a2dae6750aa8",
   "metadata": {
    "execution": {
     "iopub.execute_input": "2024-05-08T06:33:33.407138Z",
     "iopub.status.busy": "2024-05-08T06:33:33.407138Z",
     "iopub.status.idle": "2024-05-08T06:33:33.419341Z",
     "shell.execute_reply": "2024-05-08T06:33:33.418340Z",
     "shell.execute_reply.started": "2024-05-08T06:33:33.407138Z"
    }
   },
   "outputs": [
    {
     "data": {
      "text/plain": [
       "Label\n",
       "1    747\n",
       "0    747\n",
       "Name: count, dtype: int64"
      ]
     },
     "execution_count": 15,
     "metadata": {},
     "output_type": "execute_result"
    }
   ],
   "source": [
    "balanced_df['Label'].value_counts()"
   ]
  },
  {
   "cell_type": "code",
   "execution_count": 16,
   "id": "5faadeb4-85c4-4ff4-b7a3-d65623927f32",
   "metadata": {
    "execution": {
     "iopub.execute_input": "2024-05-08T06:45:21.256406Z",
     "iopub.status.busy": "2024-05-08T06:45:21.256154Z",
     "iopub.status.idle": "2024-05-08T06:45:21.263588Z",
     "shell.execute_reply": "2024-05-08T06:45:21.262664Z",
     "shell.execute_reply.started": "2024-05-08T06:45:21.256406Z"
    }
   },
   "outputs": [],
   "source": [
    "def random_split(df, train_frac, valid_frac):\n",
    "    df = df.sample(frac = 1, random_state = 123).reset_index(drop=True)\n",
    "    train_end = int(len(df) * train_frac)\n",
    "    valid_end = train_end + int(len(df) * valid_frac)\n",
    "    \n",
    "    train_df = df[:train_end]\n",
    "    valid_df = df[train_end:valid_end]\n",
    "    \n",
    "    test_df = df[valid_end:]\n",
    "    \n",
    "    return train_df,valid_df,test_df\n",
    "\n",
    "train_df, valid_df, test_df = random_split(balanced_df, 0.7, 0.1)"
   ]
  },
  {
   "cell_type": "code",
   "execution_count": 17,
   "id": "b9d819f3-bf03-4b8f-83bc-cde508676de8",
   "metadata": {
    "execution": {
     "iopub.execute_input": "2024-05-08T06:46:15.517485Z",
     "iopub.status.busy": "2024-05-08T06:46:15.517485Z",
     "iopub.status.idle": "2024-05-08T06:46:15.536367Z",
     "shell.execute_reply": "2024-05-08T06:46:15.534278Z",
     "shell.execute_reply.started": "2024-05-08T06:46:15.517485Z"
    }
   },
   "outputs": [],
   "source": [
    "train_df.to_csv(\"train_df.csv\", index=None)\n",
    "valid_df.to_csv(\"valid_df.csv\", index=None)\n",
    "test_df.to_csv(\"test_df.csv\", index=None)"
   ]
  },
  {
   "cell_type": "code",
   "execution_count": 18,
   "id": "9802c0fb-48b1-408c-9e32-c2ec6d3d3be6",
   "metadata": {
    "execution": {
     "iopub.execute_input": "2024-05-08T06:46:33.208702Z",
     "iopub.status.busy": "2024-05-08T06:46:33.207968Z",
     "iopub.status.idle": "2024-05-08T06:46:33.219827Z",
     "shell.execute_reply": "2024-05-08T06:46:33.218995Z",
     "shell.execute_reply.started": "2024-05-08T06:46:33.208647Z"
    }
   },
   "outputs": [
    {
     "data": {
      "text/html": [
       "<div>\n",
       "<style scoped>\n",
       "    .dataframe tbody tr th:only-of-type {\n",
       "        vertical-align: middle;\n",
       "    }\n",
       "\n",
       "    .dataframe tbody tr th {\n",
       "        vertical-align: top;\n",
       "    }\n",
       "\n",
       "    .dataframe thead th {\n",
       "        text-align: right;\n",
       "    }\n",
       "</style>\n",
       "<table border=\"1\" class=\"dataframe\">\n",
       "  <thead>\n",
       "    <tr style=\"text-align: right;\">\n",
       "      <th></th>\n",
       "      <th>Label</th>\n",
       "      <th>Text</th>\n",
       "    </tr>\n",
       "  </thead>\n",
       "  <tbody>\n",
       "    <tr>\n",
       "      <th>0</th>\n",
       "      <td>1</td>\n",
       "      <td>Dude how do you like the buff wind.</td>\n",
       "    </tr>\n",
       "    <tr>\n",
       "      <th>1</th>\n",
       "      <td>1</td>\n",
       "      <td>Tessy..pls do me a favor. Pls convey my birthd...</td>\n",
       "    </tr>\n",
       "  </tbody>\n",
       "</table>\n",
       "</div>"
      ],
      "text/plain": [
       "   Label                                               Text\n",
       "0      1                Dude how do you like the buff wind.\n",
       "1      1  Tessy..pls do me a favor. Pls convey my birthd..."
      ]
     },
     "execution_count": 18,
     "metadata": {},
     "output_type": "execute_result"
    }
   ],
   "source": [
    "train_df.head(2)"
   ]
  },
  {
   "cell_type": "code",
   "execution_count": null,
   "id": "d95ba844-2e88-48cf-a314-342d7b2ab487",
   "metadata": {},
   "outputs": [],
   "source": []
  },
  {
   "cell_type": "code",
   "execution_count": null,
   "id": "859b4810-a011-457d-8bf9-c760c3aa76df",
   "metadata": {},
   "outputs": [],
   "source": []
  },
  {
   "cell_type": "code",
   "execution_count": null,
   "id": "958cb2a2-a4dc-44d7-bb11-85bdd409f967",
   "metadata": {},
   "outputs": [],
   "source": []
  },
  {
   "cell_type": "code",
   "execution_count": null,
   "id": "db518e3b-4726-46f9-bd4b-e7b456b5f1d9",
   "metadata": {},
   "outputs": [],
   "source": []
  }
 ],
 "metadata": {
  "kernelspec": {
   "display_name": "Python 3 (ipykernel)",
   "language": "python",
   "name": "python3"
  },
  "language_info": {
   "codemirror_mode": {
    "name": "ipython",
    "version": 3
   },
   "file_extension": ".py",
   "mimetype": "text/x-python",
   "name": "python",
   "nbconvert_exporter": "python",
   "pygments_lexer": "ipython3",
   "version": "3.11.7"
  }
 },
 "nbformat": 4,
 "nbformat_minor": 5
}
